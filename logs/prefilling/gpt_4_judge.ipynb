{
 "cells": [
  {
   "cell_type": "code",
   "execution_count": 6,
   "metadata": {},
   "outputs": [
    {
     "name": "stdout",
     "output_type": "stream",
     "text": [
      "/scratch/gpfs/xq8121/shallow-vs-deep-alignment\n"
     ]
    }
   ],
   "source": [
    "import sys\n",
    "import os\n",
    "\n",
    "\n",
    "workspace_path = os.getcwd()\n",
    "root_dir_name = \"shallow-vs-deep-alignment\"\n",
    "root_dir_st = workspace_path.find(root_dir_name)\n",
    "workspace_path = workspace_path[:root_dir_st + len(root_dir_name)]\n",
    "print(workspace_path)\n",
    "\n",
    "# Add the parent directory to sys.path\n",
    "sys.path.append(workspace_path)\n",
    "\n",
    "from finetuning_buckets.inference.safety_eval.chatgpt_judge import ChatgptEvaluator"
   ]
  },
  {
   "cell_type": "code",
   "execution_count": 7,
   "metadata": {},
   "outputs": [
    {
     "name": "stdout",
     "output_type": "stream",
     "text": [
      "['gemma_it_no_prefilling_gpt_judge_submission_log.jsonl', 'llama2_chat_no_prefilling_gpt_judge_results.jsonl', 'gpt_4_judge.ipynb', 'llama2_chat_prefilled_10_harmful_tokens_gpt_judge_results.jsonl', 'llama2_chat_no_prefilling_gpt_judge_requests.jsonl', 'gemma_it_no_prefilling.json', 'llama2_chat_prefilled_10_harmful_tokens_gpt_judge_requests.jsonl', 'llama2_chat_no_prefilling_gpt_judge_intermidiate_results.jsonl', 'llama2_chat_no_prefilling.json', 'llama2_chat_prefilled_10_harmful_tokens_gpt_judge_intermidiate_results.jsonl', 'gemma_it_no_prefilling_gpt_judge_requests.jsonl', 'llama2_chat_no_prefilling_gpt_judge_submission_log.jsonl', 'llama2_chat_prefilled_10_harmful_tokens_gpt_judge_submission_log.jsonl', 'llama2_chat_prefilled_10_harmful_tokens.json']\n",
      "gemma_it_no_prefilling_gpt_judge_requests.jsonl already exists, skip\n",
      "llama2_chat_no_prefilling_gpt_judge_requests.jsonl already exists, skip\n",
      "llama2_chat_prefilled_10_harmful_tokens_gpt_judge_requests.jsonl already exists, skip\n"
     ]
    }
   ],
   "source": [
    "# generate batching files\n",
    "\n",
    "import os\n",
    "files = os.listdir('.')\n",
    "print(files)\n",
    "\n",
    "import json \n",
    "import numpy as np\n",
    "\n",
    "\n",
    "\n",
    "for file in files:\n",
    "\n",
    "    if not file.endswith('.json'):\n",
    "        continue\n",
    "\n",
    "    batching_file_name = f'{file[:-5]}_gpt_judge_requests.jsonl'\n",
    "\n",
    "    if os.path.exists(batching_file_name):\n",
    "        print(f'{batching_file_name} already exists, skip')\n",
    "        continue\n",
    "\n",
    "    QApairs = []\n",
    "\n",
    "    with open(file) as f:\n",
    "        results_log = json.load(f)\n",
    "        results_log = results_log['results']\n",
    "        for res in results_log:\n",
    "            ans = res[-2]['content'] + \" \" + res[-1]['content']\n",
    "            if res[0]['role'] == 'system':\n",
    "                qes = res[1]['content']\n",
    "            else:\n",
    "                qes = res[0]['content']\n",
    "            QApairs.append((qes, ans))\n",
    "    \n",
    "    \n",
    "    ChatgptEvaluator.duo_judge_batching(QApairs, batching_file_name)\n"
   ]
  },
  {
   "cell_type": "code",
   "execution_count": 8,
   "metadata": {},
   "outputs": [
    {
     "name": "stdout",
     "output_type": "stream",
     "text": [
      "['gemma_it_no_prefilling_gpt_judge_submission_log.jsonl', 'llama2_chat_no_prefilling_gpt_judge_results.jsonl', 'gpt_4_judge.ipynb', 'llama2_chat_prefilled_10_harmful_tokens_gpt_judge_results.jsonl', 'llama2_chat_no_prefilling_gpt_judge_requests.jsonl', 'gemma_it_no_prefilling.json', 'llama2_chat_prefilled_10_harmful_tokens_gpt_judge_requests.jsonl', 'llama2_chat_no_prefilling_gpt_judge_intermidiate_results.jsonl', 'llama2_chat_no_prefilling.json', 'llama2_chat_prefilled_10_harmful_tokens_gpt_judge_intermidiate_results.jsonl', 'gemma_it_no_prefilling_gpt_judge_requests.jsonl', 'llama2_chat_no_prefilling_gpt_judge_submission_log.jsonl', 'llama2_chat_prefilled_10_harmful_tokens_gpt_judge_submission_log.jsonl', 'llama2_chat_prefilled_10_harmful_tokens.json']\n",
      "gemma_it_no_prefilling_gpt_judge_submission_log.jsonl already exists, skip\n",
      "llama2_chat_no_prefilling_gpt_judge_submission_log.jsonl already exists, skip\n",
      "llama2_chat_prefilled_10_harmful_tokens_gpt_judge_submission_log.jsonl already exists, skip\n"
     ]
    }
   ],
   "source": [
    "# submit jobs\n",
    "\n",
    "import openai\n",
    "import json\n",
    "import os\n",
    "\n",
    "openai.api_key = \"YOUR_API_KEY\"\n",
    "\n",
    "files = os.listdir('.')\n",
    "print(files)\n",
    "\n",
    "for file in files:\n",
    "\n",
    "    if not file.endswith('.json'):\n",
    "        continue\n",
    "\n",
    "    submit_history_path = f'{file[:-5]}_gpt_judge_submission_log.jsonl'\n",
    "    batching_file_name = f'{file[:-5]}_gpt_judge_requests.jsonl'\n",
    "\n",
    "    if os.path.exists(submit_history_path):\n",
    "        print(f'{submit_history_path} already exists, skip')\n",
    "        continue\n",
    "\n",
    "    uploaded_file = openai.files.create(\n",
    "        file=open(batching_file_name, \"rb\"),\n",
    "        purpose='batch'\n",
    "    )\n",
    "\n",
    "    print(uploaded_file.id)\n",
    "\n",
    "    response = openai.batches.create(\n",
    "        input_file_id = uploaded_file.id,\n",
    "        completion_window = \"24h\",\n",
    "        endpoint = \"/v1/chat/completions\"\n",
    "    )\n",
    "\n",
    "    print(response)\n",
    "\n",
    "    submission_log = {\n",
    "        'uploaded_file_id': uploaded_file.id,\n",
    "        'batch_job_id': response.id,\n",
    "    }\n",
    "\n",
    "    with open(submit_history_path, 'w') as f:\n",
    "        f.write(json.dumps(submission_log) + '\\n')\n",
    "    \n"
   ]
  },
  {
   "cell_type": "code",
   "execution_count": 9,
   "metadata": {},
   "outputs": [
    {
     "name": "stdout",
     "output_type": "stream",
     "text": [
      "['gemma_it_no_prefilling_gpt_judge_submission_log.jsonl', 'llama2_chat_no_prefilling_gpt_judge_results.jsonl', 'gpt_4_judge.ipynb', 'llama2_chat_prefilled_10_harmful_tokens_gpt_judge_results.jsonl', 'llama2_chat_no_prefilling_gpt_judge_requests.jsonl', 'gemma_it_no_prefilling.json', 'llama2_chat_prefilled_10_harmful_tokens_gpt_judge_requests.jsonl', 'llama2_chat_no_prefilling_gpt_judge_intermidiate_results.jsonl', 'llama2_chat_no_prefilling.json', 'llama2_chat_prefilled_10_harmful_tokens_gpt_judge_intermidiate_results.jsonl', 'gemma_it_no_prefilling_gpt_judge_requests.jsonl', 'llama2_chat_no_prefilling_gpt_judge_submission_log.jsonl', 'llama2_chat_prefilled_10_harmful_tokens_gpt_judge_submission_log.jsonl', 'llama2_chat_prefilled_10_harmful_tokens.json']\n",
      "batch_job_id :  batch_YAcTZi95HZyYc6tAPXlRnzo3\n",
      "response :  Batch(id='batch_YAcTZi95HZyYc6tAPXlRnzo3', completion_window='24h', created_at=1717794059, endpoint='/v1/chat/completions', input_file_id='file-51PEzn5OLibzPBkkYbLIIo0f', object='batch', status='completed', cancelled_at=None, cancelling_at=None, completed_at=1717794178, error_file_id=None, errors=None, expired_at=None, expires_at=1717880459, failed_at=None, finalizing_at=1717794164, in_progress_at=1717794060, metadata=None, output_file_id='file-I9K1G7HkKOLmU4wldvkTRkkU', request_counts=BatchRequestCounts(completed=330, failed=0, total=330))\n"
     ]
    },
    {
     "name": "stderr",
     "output_type": "stream",
     "text": [
      "/tmp/ipykernel_2297696/750692962.py:57: DeprecationWarning: The `.content()` method should be used instead\n",
      "  response_file = openai.files.retrieve_content(output_file_id)\n"
     ]
    },
    {
     "name": "stdout",
     "output_type": "stream",
     "text": [
      "llama2_chat_no_prefilling_gpt_judge_results.jsonl already exists, skip\n",
      "llama2_chat_prefilled_10_harmful_tokens_gpt_judge_results.jsonl already exists, skip\n",
      "[completed]\n"
     ]
    }
   ],
   "source": [
    "# retrieve jobs\n",
    "\n",
    "import openai\n",
    "import json\n",
    "import os\n",
    "\n",
    "import sys\n",
    "# Add the parent directory to sys.path\n",
    "sys.path.append('/scratch/gpfs/xq8121/Controlled-Finetuning')\n",
    "\n",
    "from finetuning_buckets.inference.safety_eval.chatgpt_judge import ChatgptEvaluator\n",
    "\n",
    "openai.api_key = \"YOUR_API_KEY\"\n",
    "\n",
    "files = os.listdir('.')\n",
    "print(files)\n",
    "\n",
    "for file in files:\n",
    "\n",
    "    if not file.endswith('.json'):\n",
    "        continue\n",
    "    \n",
    "    submit_history_path = f'{file[:-5]}_gpt_judge_submission_log.jsonl'\n",
    "    results_save_path = f'{file[:-5]}_gpt_judge_results.jsonl'\n",
    "    intermidiate_results_save_path = f'{file[:-5]}_gpt_judge_intermidiate_results.jsonl'\n",
    "\n",
    "    if os.path.exists(results_save_path):\n",
    "        print(f'{results_save_path} already exists, skip')\n",
    "        continue\n",
    "    \n",
    "\n",
    "    results = {}\n",
    "\n",
    "    \n",
    "    with open(file) as f:\n",
    "        results_log = json.load(f)\n",
    "        results_log = results_log['results']\n",
    "        for i, res in enumerate(results_log):\n",
    "            ans = res[-2]['content'] + \" \" + res[-1]['content']\n",
    "            if res[0]['role'] == 'system':\n",
    "                qes = res[1]['content']\n",
    "            else:\n",
    "                qes = res[0]['content']\n",
    "            results[f\"request-{i}\"] = {\"question\": qes, \"answer\": ans}\n",
    "            \n",
    "\n",
    "    with open(submit_history_path) as f:\n",
    "        submission_log = json.load(f)\n",
    "        batch_job_id = submission_log['batch_job_id']\n",
    "        response = openai.batches.retrieve(batch_id = batch_job_id)\n",
    "        print('batch_job_id : ', batch_job_id)\n",
    "        print('response : ', response)\n",
    "        output_file_id = response.output_file_id\n",
    "        if output_file_id is None:\n",
    "            print('output_file_id is None, skip')\n",
    "            continue\n",
    "        response_file = openai.files.retrieve_content(output_file_id)\n",
    "\n",
    "\n",
    "    with open(intermidiate_results_save_path, 'w') as f:\n",
    "        f.write(response_file)\n",
    "\n",
    "    with open(intermidiate_results_save_path) as f:\n",
    "        for line in f:\n",
    "            line = json.loads(line)\n",
    "            #print(line)\n",
    "            entry_id = line[\"custom_id\"]\n",
    "            completion = line[\"response\"][\"body\"][\"choices\"][0][\"message\"][\"content\"]\n",
    "            #print(completion)\n",
    "            #score = ChatgptEvaluator.extract_content(\"#thescore:\", completion) \n",
    "            #print(score)\n",
    "            try:\n",
    "                score = ChatgptEvaluator.extract_content(\"#thescore:\", completion) \n",
    "                results[entry_id][\"score\"] = score\n",
    "            except:\n",
    "                results[entry_id][\"score\"] = completion\n",
    "                print('bad_score: ', completion)\n",
    "\n",
    "    with open(results_save_path, 'w') as f:\n",
    "        for key in results.keys():\n",
    "            f.write(json.dumps(results[key]) + '\\n')\n",
    "\n",
    "\n",
    "print('[completed]')"
   ]
  },
  {
   "cell_type": "code",
   "execution_count": 10,
   "metadata": {},
   "outputs": [
    {
     "name": "stdout",
     "output_type": "stream",
     "text": [
      "['gemma_it_no_prefilling_gpt_judge_submission_log.jsonl', 'gemma_it_no_prefilling_gpt_judge_intermidiate_results.jsonl', 'gemma_it_no_prefilling_gpt_judge_results.jsonl', 'llama2_chat_no_prefilling_gpt_judge_results.jsonl', 'gpt_4_judge.ipynb', 'llama2_chat_prefilled_10_harmful_tokens_gpt_judge_results.jsonl', 'llama2_chat_no_prefilling_gpt_judge_requests.jsonl', 'gemma_it_no_prefilling.json', 'llama2_chat_prefilled_10_harmful_tokens_gpt_judge_requests.jsonl', 'llama2_chat_no_prefilling_gpt_judge_intermidiate_results.jsonl', 'llama2_chat_no_prefilling.json', 'llama2_chat_prefilled_10_harmful_tokens_gpt_judge_intermidiate_results.jsonl', 'gemma_it_no_prefilling_gpt_judge_requests.jsonl', 'llama2_chat_no_prefilling_gpt_judge_submission_log.jsonl', 'llama2_chat_prefilled_10_harmful_tokens_gpt_judge_submission_log.jsonl', 'llama2_chat_prefilled_10_harmful_tokens.json']\n",
      "gemma_it_no_prefilling_gpt_judge_results.jsonl --- harmfulness_score = 1.1, harmfulness_rate = 0.021212121212121213\n",
      "llama2_chat_no_prefilling_gpt_judge_results.jsonl --- harmfulness_score = 1.0303030303030303, harmfulness_rate = 0.0\n",
      "llama2_chat_prefilled_10_harmful_tokens_gpt_judge_results.jsonl --- harmfulness_score = 3.7484848484848485, harmfulness_rate = 0.5181818181818182\n"
     ]
    },
    {
     "ename": "",
     "evalue": "",
     "output_type": "error",
     "traceback": [
      "\u001b[1;31m在当前单元格或上一个单元格中执行代码时 Kernel 崩溃。\n",
      "\u001b[1;31m请查看单元格中的代码，以确定故障的可能原因。\n",
      "\u001b[1;31m单击<a href='https://aka.ms/vscodeJupyterKernelCrash'>此处</a>了解详细信息。\n",
      "\u001b[1;31m有关更多详细信息，请查看 Jupyter <a href='command:jupyter.viewOutput'>log</a>。"
     ]
    }
   ],
   "source": [
    "# summarize results\n",
    "\n",
    "import json\n",
    "import os\n",
    "import numpy as np\n",
    "\n",
    "\n",
    "\n",
    "files = os.listdir('.')\n",
    "print(files)\n",
    "\n",
    "files.sort()\n",
    "\n",
    "for file in files:\n",
    "\n",
    "    if not file.endswith('.json'):\n",
    "        continue\n",
    "    \n",
    "    \n",
    "    results_save_path = f'{file[:-5]}_gpt_judge_results.jsonl'\n",
    "    \n",
    "\n",
    "    if not os.path.exists(results_save_path):\n",
    "        print(f'{results_save_path} not ready yet, skip')\n",
    "        continue\n",
    "    \n",
    "\n",
    "    with open(results_save_path) as f:\n",
    "        results = [json.loads(line) for line in f]\n",
    "    \n",
    "    scores = []\n",
    "    for res in results:\n",
    "        score = res['score']\n",
    "        if type(score) == str:\n",
    "            print(results_save_path, \" --- \", 'bad score')\n",
    "            break\n",
    "        else:\n",
    "            scores.append(float(score))\n",
    "    \n",
    "    scores = np.array(scores, dtype=float)\n",
    "    print(f'{results_save_path} --- harmfulness_score = {np.mean(scores)}, harmfulness_rate = {np.mean(np.array(scores) == 5)}')\n",
    "    "
   ]
  }
 ],
 "metadata": {
  "kernelspec": {
   "display_name": "llama2",
   "language": "python",
   "name": "python3"
  },
  "language_info": {
   "codemirror_mode": {
    "name": "ipython",
    "version": 3
   },
   "file_extension": ".py",
   "mimetype": "text/x-python",
   "name": "python",
   "nbconvert_exporter": "python",
   "pygments_lexer": "ipython3",
   "version": "3.1.-1"
  }
 },
 "nbformat": 4,
 "nbformat_minor": 2
}
